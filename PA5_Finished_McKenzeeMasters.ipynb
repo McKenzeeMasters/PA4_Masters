{
 "cells": [
  {
   "cell_type": "markdown",
   "id": "da91740e",
   "metadata": {},
   "source": [
    "# Assignment 5\n",
    "### CS 150-01\n",
    "### McKenzee Masters\n",
    "### Version 1"
   ]
  },
  {
   "cell_type": "markdown",
   "id": "073aaed8",
   "metadata": {},
   "source": [
    "## A)"
   ]
  },
  {
   "cell_type": "code",
   "execution_count": 1,
   "id": "f7ec6c26",
   "metadata": {},
   "outputs": [
    {
     "name": "stdout",
     "output_type": "stream",
     "text": [
      "one in french is un.\n",
      "two in french is deux.\n",
      "three in french is trois.\n",
      "four in french is quatre.\n",
      "five in french is cinq.\n",
      "six in french is six.\n",
      "seven in french is sept.\n",
      "eight in french is huit.\n",
      "nine in french is neuf.\n",
      "ten in french is dix.\n",
      "eleven in french is onze.\n",
      "twelve in french is douze.\n",
      "thirteen in french is treize.\n",
      "fourteen in french is quatorze.\n",
      "fifteen in french is quinze.\n",
      "sixteen in french is seize.\n",
      "seventeen in french is dix-sept.\n",
      "eighteen in french is dix-huit.\n",
      "nineteen in french is dix-neuf.\n",
      "tweenty in french is vingt.\n"
     ]
    }
   ],
   "source": [
    "Dic_Trans={'one':'un', 'two':'deux','three':'trois', 'four':'quatre', 'five':'cinq','six':'six','seven':'sept', 'eight':'huit', 'nine':'neuf', 'ten':'dix',\n",
    "           'eleven':'onze', 'twelve':'douze', 'thirteen':'treize','fourteen':'quatorze', 'fifteen':'quinze','sixteen':'seize','seventeen':'dix-sept','eighteen':'dix-huit','nineteen':'dix-neuf','tweenty':'vingt'}\n",
    "for eng, fren in Dic_Trans.items():\n",
    "    print(eng + \" in french is \" + fren + \".\")\n"
   ]
  },
  {
   "cell_type": "markdown",
   "id": "456810c7",
   "metadata": {},
   "source": [
    "## B)"
   ]
  },
  {
   "cell_type": "code",
   "execution_count": 2,
   "id": "24ee4e1b",
   "metadata": {},
   "outputs": [
    {
     "name": "stdout",
     "output_type": "stream",
     "text": [
      "{'January': 45, 'February': 48, 'March': 59, 'April': 69, 'May': 77, 'June': 85, 'July': 87, 'August': 86, 'September': 72}\n"
     ]
    }
   ],
   "source": [
    "Temp_2022={'January':45, 'February':48, 'March':59, 'April':69, 'May':77, \n",
    "        'June':85, 'July':87, 'August':86, 'September':72,}\n",
    "print(Temp_2022)"
   ]
  },
  {
   "cell_type": "code",
   "execution_count": 6,
   "id": "8bacaf51",
   "metadata": {},
   "outputs": [
    {
     "name": "stdout",
     "output_type": "stream",
     "text": [
      "{'January': 7.222222222222222, 'February': 8.88888888888889, 'March': 15.0, 'April': 20.555555555555554, 'May': 25.0, 'June': 29.444444444444443, 'July': 30.555555555555554, 'August': 30.0, 'September': 22.22222222222222}\n"
     ]
    }
   ],
   "source": [
    "for month, temp in Temp_2022.items():\n",
    "    Temp_2022[month]= (temp - 32) / 1.8\n",
    "print(Temp_2022)"
   ]
  },
  {
   "cell_type": "markdown",
   "id": "2bd736ed",
   "metadata": {},
   "source": [
    "## C)"
   ]
  },
  {
   "cell_type": "code",
   "execution_count": 4,
   "id": "6dbeb820",
   "metadata": {},
   "outputs": [
    {
     "name": "stdout",
     "output_type": "stream",
     "text": [
      "{'1': 1, '2': 4, '3': 9, '4': 16, '5': 25, '6': 36, '7': 49, '8': 64, '9': 81, '10': 100, '11': 121, '12': 144, '13': 169, '14': 196, '15': 225}\n"
     ]
    }
   ],
   "source": [
    "d = {}\n",
    "for i in range(1,16):\n",
    "    d[str(i)] = (i**2)\n",
    "print(d)"
   ]
  }
 ],
 "metadata": {
  "kernelspec": {
   "display_name": "Python 3 (ipykernel)",
   "language": "python",
   "name": "python3"
  },
  "language_info": {
   "codemirror_mode": {
    "name": "ipython",
    "version": 3
   },
   "file_extension": ".py",
   "mimetype": "text/x-python",
   "name": "python",
   "nbconvert_exporter": "python",
   "pygments_lexer": "ipython3",
   "version": "3.9.12"
  }
 },
 "nbformat": 4,
 "nbformat_minor": 5
}
